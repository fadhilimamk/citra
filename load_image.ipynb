{
 "cells": [
  {
   "cell_type": "code",
   "execution_count": 1,
   "metadata": {},
   "outputs": [],
   "source": [
    "from PIL import Image\n",
    "import numpy as np"
   ]
  },
  {
   "cell_type": "code",
   "execution_count": 2,
   "metadata": {},
   "outputs": [],
   "source": [
    "filename = 'bebek.jpg'\n",
    "\n",
    "image = Image.open(filename)"
   ]
  },
  {
   "cell_type": "code",
   "execution_count": 3,
   "metadata": {},
   "outputs": [
    {
     "data": {
      "text/plain": [
       "dtype('uint8')"
      ]
     },
     "execution_count": 3,
     "metadata": {},
     "output_type": "execute_result"
    }
   ],
   "source": [
    "pixel = np.array(image)\n",
    "pixel.shape\n",
    "pixel.dtype"
   ]
  },
  {
   "cell_type": "code",
   "execution_count": 4,
   "metadata": {},
   "outputs": [],
   "source": [
    "# Array of pixels to be calculated in histogram\n",
    "pixel_r = np.zeros(pixel.shape[0:2], pixel.dtype)\n",
    "pixel_g = np.zeros(pixel.shape[0:2], pixel.dtype)\n",
    "pixel_b = np.zeros(pixel.shape[0:2], pixel.dtype)\n",
    "pixel_gray = np.zeros(pixel.shape[0:2], pixel.dtype)"
   ]
  },
  {
   "cell_type": "code",
   "execution_count": 6,
   "metadata": {},
   "outputs": [],
   "source": [
    "for i, row in enumerate(pixel):\n",
    "    for j, pix in enumerate(row):\n",
    "        pixel_r[i][j] = pix[0]\n",
    "        pixel_g[i][j] = pix[1]\n",
    "        pixel_b[i][j] = pix[2]\n",
    "        pixel_gray[i][j] = np.uint8(pix.mean())"
   ]
  },
  {
   "cell_type": "code",
   "execution_count": 12,
   "metadata": {},
   "outputs": [
    {
     "data": {
      "text/plain": [
       "array([[ 69,  53,  53, ...,  61,  61,  61],\n",
       "       [ 50,  35,  35, ...,  41,  41,  41],\n",
       "       [ 51,  35,  36, ...,  43,  43,  43],\n",
       "       ...,\n",
       "       [120, 111, 107, ..., 101,  99,  99],\n",
       "       [119, 111, 108, ..., 101, 101, 102],\n",
       "       [114, 106, 104, ..., 101, 104, 106]], dtype=uint8)"
      ]
     },
     "execution_count": 12,
     "metadata": {},
     "output_type": "execute_result"
    }
   ],
   "source": []
  },
  {
   "cell_type": "code",
   "execution_count": null,
   "metadata": {},
   "outputs": [],
   "source": []
  }
 ],
 "metadata": {
  "kernelspec": {
   "display_name": "Python 3",
   "language": "python",
   "name": "python3"
  },
  "language_info": {
   "codemirror_mode": {
    "name": "ipython",
    "version": 3
   },
   "file_extension": ".py",
   "mimetype": "text/x-python",
   "name": "python",
   "nbconvert_exporter": "python",
   "pygments_lexer": "ipython3",
   "version": "3.6.5"
  }
 },
 "nbformat": 4,
 "nbformat_minor": 2
}
